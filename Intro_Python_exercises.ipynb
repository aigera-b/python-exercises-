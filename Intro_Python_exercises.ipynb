{
  "nbformat": 4,
  "nbformat_minor": 0,
  "metadata": {
    "colab": {
      "name": "Intro Python exercises",
      "provenance": [],
      "collapsed_sections": [],
      "authorship_tag": "ABX9TyP9NydMcAhCPJ9cAMPg3YKc",
      "include_colab_link": true
    },
    "kernelspec": {
      "name": "python3",
      "display_name": "Python 3"
    },
    "language_info": {
      "name": "python"
    }
  },
  "cells": [
    {
      "cell_type": "markdown",
      "metadata": {
        "id": "view-in-github",
        "colab_type": "text"
      },
      "source": [
        "<a href=\"https://colab.research.google.com/github/aigera-b/python-exercises-/blob/main/Intro_Python_exercises.ipynb\" target=\"_parent\"><img src=\"https://colab.research.google.com/assets/colab-badge.svg\" alt=\"Open In Colab\"/></a>"
      ]
    },
    {
      "cell_type": "code",
      "execution_count": 6,
      "metadata": {
        "colab": {
          "base_uri": "https://localhost:8080/"
        },
        "id": "DbUQbPmiL0-v",
        "outputId": "38f149ea-b095-44d3-fe96-de36de478c67"
      },
      "outputs": [
        {
          "output_type": "stream",
          "name": "stdout",
          "text": [
            "Today is a beautiful day.\n"
          ]
        }
      ],
      "source": [
        "#hello, world!\n",
        "print(\"Today is a beautiful day.\") "
      ]
    },
    {
      "cell_type": "code",
      "source": [
        "#variables and types\n",
        "#numbers can be integers and floats \n",
        "int1 = 18\n",
        "print (int1)\n",
        "\n",
        "float1 = 0.75\n",
        "print (float1)\n",
        "\n",
        "float1 = float (43)\n",
        "print(float1)\n",
        "\n",
        "#strings \n",
        "string1 = 'Time is flying by'\n",
        "print(string1)\n",
        "\n",
        "string2 = \"Stay hydrated\"\n",
        "print(string2)"
      ],
      "metadata": {
        "colab": {
          "base_uri": "https://localhost:8080/"
        },
        "id": "zby2yNadMU_r",
        "outputId": "439b8a8e-2107-439f-e8b3-ab500c93ca11"
      },
      "execution_count": 7,
      "outputs": [
        {
          "output_type": "stream",
          "name": "stdout",
          "text": [
            "18\n",
            "0.75\n",
            "43.0\n",
            "Time is flying by\n",
            "Stay hydrated\n"
          ]
        }
      ]
    },
    {
      "cell_type": "code",
      "source": [
        ""
      ],
      "metadata": {
        "id": "wH-qX7WeR8PS"
      },
      "execution_count": null,
      "outputs": []
    },
    {
      "cell_type": "code",
      "source": [
        ""
      ],
      "metadata": {
        "id": "AHz1YKEIPBaL"
      },
      "execution_count": null,
      "outputs": []
    }
  ]
}