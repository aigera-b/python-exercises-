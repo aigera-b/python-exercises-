{
  "nbformat": 4,
  "nbformat_minor": 0,
  "metadata": {
    "colab": {
      "name": "Intro Python exercises",
      "provenance": [],
      "collapsed_sections": [],
      "authorship_tag": "ABX9TyMZTlSEfXNhjbZYfEQb528o",
      "include_colab_link": true
    },
    "kernelspec": {
      "name": "python3",
      "display_name": "Python 3"
    },
    "language_info": {
      "name": "python"
    }
  },
  "cells": [
    {
      "cell_type": "markdown",
      "metadata": {
        "id": "view-in-github",
        "colab_type": "text"
      },
      "source": [
        "<a href=\"https://colab.research.google.com/github/aigera-b/python-exercises-/blob/main/Intro_Python_exercises.ipynb\" target=\"_parent\"><img src=\"https://colab.research.google.com/assets/colab-badge.svg\" alt=\"Open In Colab\"/></a>"
      ]
    },
    {
      "cell_type": "code",
      "execution_count": 6,
      "metadata": {
        "colab": {
          "base_uri": "https://localhost:8080/"
        },
        "id": "DbUQbPmiL0-v",
        "outputId": "38f149ea-b095-44d3-fe96-de36de478c67"
      },
      "outputs": [
        {
          "output_type": "stream",
          "name": "stdout",
          "text": [
            "Today is a beautiful day.\n"
          ]
        }
      ],
      "source": [
        "#hello, world!\n",
        "print(\"Today is a beautiful day.\") "
      ]
    },
    {
      "cell_type": "code",
      "source": [
        "#variables and types\n",
        "#numbers can be integers and floats \n",
        "int1 = 18\n",
        "print (int1)\n",
        "\n",
        "float1 = 0.75\n",
        "print (float1)\n",
        "\n",
        "float1 = float (43)\n",
        "print(float1)"
      ],
      "metadata": {
        "colab": {
          "base_uri": "https://localhost:8080/"
        },
        "id": "zby2yNadMU_r",
        "outputId": "a33af19b-b4c4-4292-95e3-65624c003103"
      },
      "execution_count": 9,
      "outputs": [
        {
          "output_type": "stream",
          "name": "stdout",
          "text": [
            "18\n",
            "0.75\n",
            "43.0\n"
          ]
        }
      ]
    },
    {
      "cell_type": "code",
      "source": [
        "#strings \n",
        "string1 = 'Time is flying by'\n",
        "print(string1)\n",
        "\n",
        "string2 = \"Stay hydrated\"\n",
        "print(string2)\n",
        "\n",
        "string3 = \"Don't worry about other people's opinions\" #double quotes work better if you use apostrophes, single quotes will not work\n",
        "print(string3)"
      ],
      "metadata": {
        "colab": {
          "base_uri": "https://localhost:8080/"
        },
        "id": "wH-qX7WeR8PS",
        "outputId": "20a866d5-b3ed-4467-d071-c2dda7729958"
      },
      "execution_count": 11,
      "outputs": [
        {
          "output_type": "stream",
          "name": "stdout",
          "text": [
            "Time is flying by\n",
            "Stay hydrated\n",
            "Don't worry about other people's opinions\n"
          ]
        }
      ]
    },
    {
      "cell_type": "code",
      "source": [
        "#additional variations on defining strings\n",
        "apples = 45\n",
        "pears = 23\n",
        "fruits = apples + pears\n",
        "print(fruits)\n",
        "\n",
        "first = \"hello\"\n",
        "second = \"world\"\n",
        "sent = first + \", \" + second\n",
        "print(sent)"
      ],
      "metadata": {
        "colab": {
          "base_uri": "https://localhost:8080/"
        },
        "id": "AHz1YKEIPBaL",
        "outputId": "751a3484-1f7b-432e-f400-d68af2c5391a"
      },
      "execution_count": 13,
      "outputs": [
        {
          "output_type": "stream",
          "name": "stdout",
          "text": [
            "68\n",
            "hello, world\n"
          ]
        }
      ]
    },
    {
      "cell_type": "code",
      "source": [
        "a, b = 3, 6\n",
        "print(b)\n",
        "print(a, b)"
      ],
      "metadata": {
        "colab": {
          "base_uri": "https://localhost:8080/"
        },
        "id": "s_lucl9VVcoJ",
        "outputId": "d344c89e-20f5-4361-a0bb-4f4c479cef0b"
      },
      "execution_count": 17,
      "outputs": [
        {
          "output_type": "stream",
          "name": "stdout",
          "text": [
            "6\n",
            "3 6\n"
          ]
        }
      ]
    },
    {
      "cell_type": "code",
      "source": [
        "mystring = \"hello\"\n",
        "myint = 20\n",
        "myfloat = 10.0\n",
        "\n",
        "print(mystring)\n",
        "print(myint)\n",
        "print(myfloat)"
      ],
      "metadata": {
        "colab": {
          "base_uri": "https://localhost:8080/"
        },
        "id": "XPDKCjdJWL-r",
        "outputId": "bf61c5a2-9fc6-4b93-aa6b-cbb3c1e89a94"
      },
      "execution_count": 19,
      "outputs": [
        {
          "output_type": "stream",
          "name": "stdout",
          "text": [
            "hello\n",
            "20\n",
            "10.0\n"
          ]
        }
      ]
    }
  ]
}